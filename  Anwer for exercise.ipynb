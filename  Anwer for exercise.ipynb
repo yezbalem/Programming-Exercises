{
 "cells": [
  {
   "cell_type": "markdown",
   "id": "363bfa74",
   "metadata": {},
   "source": [
    "# Yezbalem Molla\n",
    "# Anser for python exercise for coop students"
   ]
  },
  {
   "cell_type": "code",
   "execution_count": 3,
   "id": "f5b873bd",
   "metadata": {},
   "outputs": [
    {
     "ename": "NameError",
     "evalue": "name 'List' is not defined",
     "output_type": "error",
     "traceback": [
      "\u001b[0;31m---------------------------------------------------------------------------\u001b[0m",
      "\u001b[0;31mNameError\u001b[0m                                 Traceback (most recent call last)",
      "Cell \u001b[0;32mIn [3], line 3\u001b[0m\n\u001b[1;32m      1\u001b[0m \u001b[38;5;66;03m# 1. Arrays\u001b[39;00m\n\u001b[1;32m      2\u001b[0m \u001b[38;5;28;01mimport\u001b[39;00m \u001b[38;5;21;01mnumpy\u001b[39;00m \u001b[38;5;28;01mas\u001b[39;00m \u001b[38;5;21;01mnp\u001b[39;00m\n\u001b[0;32m----> 3\u001b[0m \u001b[38;5;28;01mdef\u001b[39;00m \u001b[38;5;21mtwoSum\u001b[39m(\u001b[38;5;28mself\u001b[39m, nums: \u001b[43mList\u001b[49m[\u001b[38;5;28mint\u001b[39m], target: \u001b[38;5;28mint\u001b[39m) \u001b[38;5;241m-\u001b[39m\u001b[38;5;241m>\u001b[39m List[\u001b[38;5;28mint\u001b[39m]:\n\u001b[1;32m      4\u001b[0m     \u001b[38;5;28;01mfor\u001b[39;00m a \u001b[38;5;129;01min\u001b[39;00m \u001b[38;5;28mrange\u001b[39m(\u001b[38;5;28mlen\u001b[39m(nums)):\n\u001b[1;32m      5\u001b[0m         \u001b[38;5;28;01mfor\u001b[39;00m b \u001b[38;5;129;01min\u001b[39;00m \u001b[38;5;28mrange\u001b[39m(a\u001b[38;5;241m+\u001b[39m\u001b[38;5;241m1\u001b[39m, \u001b[38;5;28mlen\u001b[39m(nums)):\n",
      "\u001b[0;31mNameError\u001b[0m: name 'List' is not defined"
     ]
    }
   ],
   "source": [
    "# 1. Arrays\n",
    "import numpy as np\n",
    "def twoSum(self, nums: List[int], target: int) -> List[int]:\n",
    "    for a in range(len(nums)):\n",
    "        for b in range(a+1, len(nums)):\n",
    "            if nums[a]+nums[b] == target:\n",
    "                return [a,b]"
   ]
  },
  {
   "cell_type": "code",
   "execution_count": 4,
   "id": "28432bcb",
   "metadata": {},
   "outputs": [
    {
     "name": "stdout",
     "output_type": "stream",
     "text": [
      "[0, 1]\n"
     ]
    }
   ],
   "source": [
    "# 1\n",
    "def two_sum(nums, target):\n",
    "    # Dictionary to store the indices of the numbers we have seen so far\n",
    "    num_map = {}\n",
    "    \n",
    "    # Iterate through the list of numbers\n",
    "    for i, num in enumerate(nums):\n",
    "        complement = target - num # Calculate the complement (target - current number)\n",
    "        # If the complement is already in the dictionary, return the pair of indices\n",
    "        if complement in num_map:\n",
    "            return [num_map[complement], i]\n",
    "        \n",
    "        # Otherwise, store the current number and its index in the dictionary\n",
    "        num_map[num] = i\n",
    "    \n",
    "    # Return an empty list if no solution is found\n",
    "    return []\n",
    "\n",
    "# Example usage\n",
    "nums = [2, 7, 11, 15]\n",
    "target = 9\n",
    "result = two_sum(nums, target)\n",
    "print(result)  # Output: [0, 1]\n"
   ]
  },
  {
   "cell_type": "code",
   "execution_count": 5,
   "id": "04196c19",
   "metadata": {},
   "outputs": [
    {
     "name": "stdout",
     "output_type": "stream",
     "text": [
      "6\n"
     ]
    }
   ],
   "source": [
    "def max_subarray_sum(nums):\n",
    "    # Initialize variables to track the maximum sum\n",
    "    max_sum = nums[0]\n",
    "    current_sum = nums[0]\n",
    "    \n",
    "    # Iterate through the array starting from the second element\n",
    "    for i in range(1, len(nums)):\n",
    "        # Update the current sum by either adding the current element\n",
    "        # or starting a new subarray with the current element\n",
    "        current_sum = max(nums[i], current_sum + nums[i])\n",
    "        \n",
    "        # Update the maximum sum if the current sum is greater\n",
    "        max_sum = max(max_sum, current_sum)\n",
    "    \n",
    "    return max_sum\n",
    "\n",
    "# Example usage\n",
    "nums = [-2, 1, -3, 4, -1, 2, 1, -5, 4]\n",
    "result = max_subarray_sum(nums)\n",
    "print(result)  # Output: 6\n"
   ]
  },
  {
   "cell_type": "code",
   "execution_count": 6,
   "id": "39524146",
   "metadata": {},
   "outputs": [
    {
     "name": "stdout",
     "output_type": "stream",
     "text": [
      "[[], [1], [1, 2], [1, 2, 3], [1, 3], [2], [2, 3], [3]]\n"
     ]
    }
   ],
   "source": [
    "#.13.\n",
    "def subsets(nums):\n",
    "    result = []\n",
    "    \n",
    "    # Helper function to perform backtracking\n",
    "    def backtrack(start, current_subset):\n",
    "        # Append the current subset to the result\n",
    "        result.append(current_subset[:])  # Make a copy of the current subset\n",
    "        \n",
    "        # Try adding more elements to the current subset\n",
    "        for i in range(start, len(nums)):\n",
    "            current_subset.append(nums[i])  # Add the current element\n",
    "            backtrack(i + 1, current_subset)  # Recur for the next elements\n",
    "            current_subset.pop()  # Backtrack: remove the last element\n",
    "\n",
    "    # Call the backtracking function starting from index 0 with an empty subset\n",
    "    backtrack(0, [])\n",
    "    \n",
    "    return result\n",
    "\n",
    "# Example usage\n",
    "nums = [1, 2, 3]\n",
    "result = subsets(nums)\n",
    "print(result)\n"
   ]
  },
  {
   "cell_type": "code",
   "execution_count": 8,
   "id": "8ba7d276",
   "metadata": {},
   "outputs": [
    {
     "name": "stdout",
     "output_type": "stream",
     "text": [
      "['((()))', '(()())', '(())()', '()(())', '()()()']\n"
     ]
    }
   ],
   "source": [
    "# 14.\n",
    "def generate_parentheses(n):\n",
    "    result = []\n",
    "    \n",
    "    # Helper function to perform backtracking\n",
    "    def backtrack(current_string, open_count, close_count):\n",
    "        # If the current string has used up all n pairs of parentheses\n",
    "        if len(current_string) == 2 * n:\n",
    "            result.append(current_string)\n",
    "            return\n",
    "        \n",
    "        # Add an open parenthesis if we haven't used up all n opening parentheses\n",
    "        if open_count < n:\n",
    "            backtrack(current_string + '(', open_count + 1, close_count)\n",
    "        \n",
    "        # Add a close parenthesis if it won't exceed the number of opening parentheses\n",
    "        if close_count < open_count:\n",
    "            backtrack(current_string + ')', open_count, close_count + 1)\n",
    "    \n",
    "    # Start backtracking with an empty string and counts for open and close parentheses\n",
    "    backtrack(\"\", 0, 0)\n",
    "    \n",
    "    return result\n",
    "\n",
    "# Example usage\n",
    "n = 3\n",
    "result = generate_parentheses(n)\n",
    "print(result)\n"
   ]
  },
  {
   "cell_type": "code",
   "execution_count": 9,
   "id": "b4bddbd9",
   "metadata": {},
   "outputs": [
    {
     "name": "stdout",
     "output_type": "stream",
     "text": [
      "[1, 2, 3, 6, 9, 8, 7, 4, 5]\n"
     ]
    }
   ],
   "source": [
    "# 17\n",
    "def spiral_order(matrix):\n",
    "    if not matrix:\n",
    "        return []\n",
    "    \n",
    "    result = []\n",
    "    top, bottom, left, right = 0, len(matrix) - 1, 0, len(matrix[0]) - 1\n",
    "    \n",
    "    while top <= bottom and left <= right:\n",
    "        # Traverse from left to right across the top row\n",
    "        for i in range(left, right + 1):\n",
    "            result.append(matrix[top][i])\n",
    "        top += 1  # Move the top boundary down\n",
    "        \n",
    "        # Traverse from top to bottom along the right column\n",
    "        for i in range(top, bottom + 1):\n",
    "            result.append(matrix[i][right])\n",
    "        right -= 1  # Move the right boundary left\n",
    "        \n",
    "        if top <= bottom:\n",
    "            # Traverse from right to left across the bottom row\n",
    "            for i in range(right, left - 1, -1):\n",
    "                result.append(matrix[bottom][i])\n",
    "            bottom -= 1  # Move the bottom boundary up\n",
    "        \n",
    "        if left <= right:\n",
    "            # Traverse from bottom to top along the left column\n",
    "            for i in range(bottom, top - 1, -1):\n",
    "                result.append(matrix[i][left])\n",
    "            left += 1  # Move the left boundary right\n",
    "    \n",
    "    return result\n",
    "\n",
    "# Example usage\n",
    "matrix = [\n",
    "    [1, 2, 3],\n",
    "    [4, 5, 6],\n",
    "    [7, 8, 9]\n",
    "]\n",
    "result = spiral_order(matrix)\n",
    "print(result)\n"
   ]
  },
  {
   "cell_type": "code",
   "execution_count": 11,
   "id": "d4afbda9",
   "metadata": {},
   "outputs": [
    {
     "data": {
      "text/plain": [
       "24"
      ]
     },
     "execution_count": 11,
     "metadata": {},
     "output_type": "execute_result"
    }
   ],
   "source": [
    "x=14\n",
    "y=10\n",
    "z=x+y\n",
    "z"
   ]
  },
  {
   "cell_type": "code",
   "execution_count": null,
   "id": "4225b944",
   "metadata": {},
   "outputs": [],
   "source": []
  }
 ],
 "metadata": {
  "kernelspec": {
   "display_name": "Python 3 (ipykernel)",
   "language": "python",
   "name": "python3"
  },
  "language_info": {
   "codemirror_mode": {
    "name": "ipython",
    "version": 3
   },
   "file_extension": ".py",
   "mimetype": "text/x-python",
   "name": "python",
   "nbconvert_exporter": "python",
   "pygments_lexer": "ipython3",
   "version": "3.11.2"
  }
 },
 "nbformat": 4,
 "nbformat_minor": 5
}
